{
 "cells": [
  {
   "cell_type": "code",
   "execution_count": 72,
   "metadata": {},
   "outputs": [],
   "source": [
    "import pandas as pd\n",
    "import duckdb\n",
    "import sklearn\n"
   ]
  },
  {
   "cell_type": "code",
   "execution_count": null,
   "metadata": {},
   "outputs": [],
   "source": [
    "# Initialize a connection and create a persistent database\n",
    "# Worth noting that due to the workflow I'm using, the database was/should be created externally, and then built into the Docker container\n",
    "# This way, the raw database files are saved locally, but file size won't grow exponentially\n",
    "con = duckdb.connect(\"files/titanic.duckdb\")\n"
   ]
  },
  {
   "cell_type": "code",
   "execution_count": 86,
   "metadata": {},
   "outputs": [
    {
     "data": {
      "text/plain": [
       "┌───────────────┬──────────────┬─────────────┬────────────┬────────────┬───────────┬─────────┬───────────────────────┬──────────┬───────────┬─────────────────┬────────────────┬──────────────┬─────────────┬────────────────────────┬──────────────────────────────────────────────────────────────────────────────────────────────────────────────────────────────────────────────────────────────────┐\n",
       "│ database_name │ database_oid │ schema_name │ schema_oid │ table_name │ table_oid │ comment │         tags          │ internal │ temporary │ has_primary_key │ estimated_size │ column_count │ index_count │ check_constraint_count │                                                                               sql                                                                                │\n",
       "│    varchar    │    int64     │   varchar   │   int64    │  varchar   │   int64   │ varchar │ map(varchar, varchar) │ boolean  │  boolean  │     boolean     │     int64      │    int64     │    int64    │         int64          │                                                                             varchar                                                                              │\n",
       "├───────────────┼──────────────┼─────────────┼────────────┼────────────┼───────────┼─────────┼───────────────────────┼──────────┼───────────┼─────────────────┼────────────────┼──────────────┼─────────────┼────────────────────────┼──────────────────────────────────────────────────────────────────────────────────────────────────────────────────────────────────────────────────────────────────┤\n",
       "│ titanic       │         1146 │ main        │       1148 │ test_raw   │      2072 │ NULL    │ {}                    │ false    │ false     │ false           │            418 │            8 │           0 │                      0 │ CREATE TABLE test_raw(PassengerId BIGINT, Pclass BIGINT, \"Name\" VARCHAR, Sex VARCHAR, Age DOUBLE, SibSp BIGINT, Parch BIGINT, Ticket VARCHAR);                   │\n",
       "│ titanic       │         1146 │ main        │       1148 │ train_raw  │      2057 │ NULL    │ {}                    │ false    │ false     │ false           │            891 │            9 │           0 │                      0 │ CREATE TABLE train_raw(PassengerId BIGINT, Survived BIGINT, Pclass BIGINT, \"Name\" VARCHAR, Sex VARCHAR, Age DOUBLE, SibSp BIGINT, Parch BIGINT, Ticket VARCHAR); │\n",
       "└───────────────┴──────────────┴─────────────┴────────────┴────────────┴───────────┴─────────┴───────────────────────┴──────────┴───────────┴─────────────────┴────────────────┴──────────────┴─────────────┴────────────────────────┴──────────────────────────────────────────────────────────────────────────────────────────────────────────────────────────────────────────────────────────────────┘"
      ]
     },
     "execution_count": 86,
     "metadata": {},
     "output_type": "execute_result"
    }
   ],
   "source": [
    "# Verify the proper tables are loaded\n",
    "con.sql(\"SELECT * FROM duckdb_tables()\")"
   ]
  },
  {
   "cell_type": "code",
   "execution_count": null,
   "metadata": {},
   "outputs": [],
   "source": [
    "# Using this to DROP or Recreate train_raw, depending on the cleaning process\n",
    "con.sql(\"DROP TABLE train_raw;\")\n",
    "con.sql(\"CREATE TABLE train_raw AS SELECT * FROM 'files/train.csv'\")"
   ]
  },
  {
   "cell_type": "code",
   "execution_count": 84,
   "metadata": {},
   "outputs": [
    {
     "data": {
      "text/plain": [
       "┌─────────────┬─────────────┬─────────────────────┬─────────────────────────────┬───────────────┬─────────────────────┬─────────────────────┬─────────┬───────────────────┬───────────────────┬───────┬─────────────────┐\n",
       "│ column_name │ column_type │         min         │             max             │ approx_unique │         avg         │         std         │   q25   │        q50        │        q75        │ count │ null_percentage │\n",
       "│   varchar   │   varchar   │       varchar       │           varchar           │     int64     │       varchar       │       varchar       │ varchar │      varchar      │      varchar      │ int64 │  decimal(9,2)   │\n",
       "├─────────────┼─────────────┼─────────────────────┼─────────────────────────────┼───────────────┼─────────────────────┼─────────────────────┼─────────┼───────────────────┼───────────────────┼───────┼─────────────────┤\n",
       "│ PassengerId │ BIGINT      │ 1                   │ 891                         │          1051 │ 446.0               │ 257.3538420152301   │ 223     │ 446               │ 669               │   891 │            0.00 │\n",
       "│ Survived    │ BIGINT      │ 0                   │ 1                           │             2 │ 0.3838383838383838  │ 0.48659245426485753 │ 0       │ 0                 │ 1                 │   891 │            0.00 │\n",
       "│ Pclass      │ BIGINT      │ 1                   │ 3                           │             3 │ 2.308641975308642   │ 0.8360712409770491  │ 2       │ 3                 │ 3                 │   891 │            0.00 │\n",
       "│ Name        │ VARCHAR     │ Abbing, Mr. Anthony │ van Melkebeke, Mr. Philemon │           836 │ NULL                │ NULL                │ NULL    │ NULL              │ NULL              │   891 │            0.00 │\n",
       "│ Sex         │ VARCHAR     │ female              │ male                        │             2 │ NULL                │ NULL                │ NULL    │ NULL              │ NULL              │   891 │            0.00 │\n",
       "│ Age         │ DOUBLE      │ 0.42                │ 80.0                        │            97 │ 29.699117647058763  │ 13.002015226002891  │ 22.0    │ 29.69911764705882 │ 35.14855072463768 │   891 │            0.00 │\n",
       "│ SibSp       │ BIGINT      │ 0                   │ 8                           │             7 │ 0.5230078563411896  │ 1.1027434322934315  │ 0       │ 0                 │ 1                 │   891 │            0.00 │\n",
       "│ Parch       │ BIGINT      │ 0                   │ 6                           │             7 │ 0.38159371492704824 │ 0.8060572211299488  │ 0       │ 0                 │ 0                 │   891 │            0.00 │\n",
       "│ Ticket      │ VARCHAR     │ 110152              │ WE/P 5735                   │           531 │ NULL                │ NULL                │ NULL    │ NULL              │ NULL              │   891 │            0.00 │\n",
       "└─────────────┴─────────────┴─────────────────────┴─────────────────────────────┴───────────────┴─────────────────────┴─────────────────────┴─────────┴───────────────────┴───────────────────┴───────┴─────────────────┘"
      ]
     },
     "execution_count": 84,
     "metadata": {},
     "output_type": "execute_result"
    }
   ],
   "source": [
    "# Generate summary statistics\n",
    "con.sql(\"SUMMARIZE train_raw\")\n",
    "#con.sql(\"SUMMARIZE test_raw\")"
   ]
  },
  {
   "cell_type": "code",
   "execution_count": null,
   "metadata": {},
   "outputs": [],
   "source": [
    "# Examine Nulls for the Age, Cabin, and Embarked columns\n",
    "con.sql(\"SELECT * FROM train_raw WHERE Age IS NULL\") # Seems to make the most sense to use the average age here\n",
    "con.sql(\"SELECT * FROM train_raw WHERE Cabin IS NULL\") # Seems likely Cabins not as strictly recorded for lower class guests, probably unnecessary for model\n",
    "con.sql(\"SELECT * FROM train_raw WHERE Embarked IS NULL\") # This only comprises 2 records and it's unclear if they made it on in the first place, not a high enough percentage of 1st class survivors to consider keeping"
   ]
  },
  {
   "cell_type": "code",
   "execution_count": null,
   "metadata": {},
   "outputs": [],
   "source": [
    "# Update the Age column\n",
    "con.sql(\"\"\"UPDATE train_raw AS train_clean\n",
    "        SET Age = (\n",
    "            SELECT\n",
    "                avg(raw.Age) AS cleanAge\n",
    "            FROM train_raw as raw\n",
    "            WHERE raw.Age IS NOT NULL\n",
    "        )\n",
    "        WHERE Age IS NULL\"\"\")"
   ]
  },
  {
   "cell_type": "code",
   "execution_count": 78,
   "metadata": {},
   "outputs": [],
   "source": [
    "# Update the Age column in the test dataset\n",
    "con.sql(\"\"\"UPDATE test_raw AS test_clean\n",
    "        SET Age = (\n",
    "            SELECT\n",
    "                avg(raw.Age) AS cleanAge\n",
    "            FROM test_raw as raw\n",
    "            WHERE raw.Age IS NOT NULL\n",
    "        )\n",
    "        WHERE Age IS NULL\"\"\")"
   ]
  },
  {
   "cell_type": "code",
   "execution_count": null,
   "metadata": {},
   "outputs": [],
   "source": [
    "# Remove the Cabin, Embarked, and Fare columns\n",
    "con.sql(\"ALTER TABLE test_raw DROP Cabin\")\n",
    "con.sql(\"ALTER TABLE test_raw DROP Embarked\")\n",
    "con.sql(\"ALTER TABLE test_raw DROP Fare\") # Dropping because there are nulls in the test file"
   ]
  },
  {
   "cell_type": "code",
   "execution_count": 79,
   "metadata": {},
   "outputs": [],
   "source": [
    "# Remove the Cabin, Embarked, and Fare columns\n",
    "con.sql(\"ALTER TABLE test_raw DROP Cabin\")\n",
    "con.sql(\"ALTER TABLE test_raw DROP Embarked\")\n",
    "con.sql(\"ALTER TABLE test_raw DROP Fare\") # Dropping because there are nulls in the test file"
   ]
  },
  {
   "cell_type": "code",
   "execution_count": null,
   "metadata": {},
   "outputs": [],
   "source": [
    "# Creating dataframes for testing/training, I'll be using sklearn here, which needs both\n",
    "train = con.sql(\"SELECT * FROM train_raw\").df()\n",
    "test = con.sql(\"SELECT * FROM test_raw\").df()"
   ]
  },
  {
   "cell_type": "code",
   "execution_count": null,
   "metadata": {},
   "outputs": [
    {
     "name": "stdout",
     "output_type": "stream",
     "text": [
      "Variable   Type                  Data/Info\n",
      "------------------------------------------\n",
      "con        DuckDBPyConnection    <duckdb.duckdb.DuckDBPyCo<...>object at 0x7fe171135cf0>\n",
      "duckdb     module                <module 'duckdb' from '/u<...>ages/duckdb/__init__.py'>\n",
      "pd         module                <module 'pandas' from '/u<...>ages/pandas/__init__.py'>\n",
      "sklearn    module                <module 'sklearn' from '/<...>ges/sklearn/__init__.py'>\n",
      "test       DataFrame                  PassengerId  Pclass <...>n\\n[418 rows x 8 columns]\n",
      "train      DataFrame                  PassengerId  Survive<...>n\\n[891 rows x 9 columns]\n"
     ]
    }
   ],
   "source": []
  }
 ],
 "metadata": {
  "kernelspec": {
   "display_name": "Python 3 (ipykernel)",
   "language": "python",
   "name": "python3"
  },
  "language_info": {
   "codemirror_mode": {
    "name": "ipython",
    "version": 3
   },
   "file_extension": ".py",
   "mimetype": "text/x-python",
   "name": "python",
   "nbconvert_exporter": "python",
   "pygments_lexer": "ipython3",
   "version": "3.13.0"
  }
 },
 "nbformat": 4,
 "nbformat_minor": 2
}
